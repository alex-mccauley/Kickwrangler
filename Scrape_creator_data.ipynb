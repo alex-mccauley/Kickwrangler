{
 "cells": [
  {
   "cell_type": "code",
   "execution_count": 60,
   "metadata": {
    "collapsed": true
   },
   "outputs": [],
   "source": [
    "import pickle\n",
    "import matplotlib.pyplot as plt\n",
    "from selenium import webdriver\n",
    "import time\n",
    "import numpy as np\n",
    "import pandas as pd\n",
    "import sys\n",
    "%matplotlib inline"
   ]
  },
  {
   "cell_type": "code",
   "execution_count": 2,
   "metadata": {
    "collapsed": true
   },
   "outputs": [],
   "source": [
    "tech_projects = pickle.load(open('data/2015_06_04_tech_projects.p','rb'))"
   ]
  },
  {
   "cell_type": "code",
   "execution_count": 68,
   "metadata": {
    "collapsed": true
   },
   "outputs": [],
   "source": [
    "import requests\n",
    "from bs4 import BeautifulSoup\n",
    "import re\n",
    "\n",
    "creator_keys = []\n",
    "creator_backed = []\n",
    "creator_created = []\n",
    "creator_comments = []"
   ]
  },
  {
   "cell_type": "code",
   "execution_count": 69,
   "metadata": {
    "collapsed": false
   },
   "outputs": [
    {
     "name": "stdout",
     "output_type": "stream",
     "text": [
      "Step 0 of 2900\n",
      "Step 10 of 2900\n",
      "Step 20 of 2900\n",
      "Step 30 of 2900\n",
      "Step 40 of 2900\n",
      "Step 50 of 2900\n",
      "Step 60 of 2900\n",
      "Step 70 of 2900\n",
      "Step 80 of 2900\n",
      "Step 90 of 2900\n",
      "Step 100 of 2900\n",
      "Step 110 of 2900\n",
      "Step 120 of 2900\n",
      "Step 130 of 2900\n",
      "Step 140 of 2900\n",
      "Step 150 of 2900\n",
      "Step 160 of 2900\n",
      "Step 170 of 2900\n",
      "Step 180 of 2900\n",
      "Step 190 of 2900\n",
      "Step 200 of 2900\n",
      "Step 210 of 2900\n",
      "Step 220 of 2900\n",
      "Step 230 of 2900\n",
      "Step 240 of 2900\n",
      "Could not find index for key 119956164\n",
      "Step 250 of 2900\n",
      "Step 260 of 2900\n",
      "Step 270 of 2900\n",
      "Step 280 of 2900\n",
      "Step 290 of 2900\n",
      "Step 300 of 2900\n",
      "Step 310 of 2900\n",
      "Step 320 of 2900\n",
      "Step 330 of 2900\n",
      "Step 340 of 2900\n",
      "Step 350 of 2900\n",
      "Step 360 of 2900\n",
      "Could not find index for key 1844306983\n",
      "Step 370 of 2900\n",
      "Step 380 of 2900\n",
      "Step 390 of 2900\n",
      "Step 400 of 2900\n",
      "Step 410 of 2900\n",
      "Could not find index for key 1154581684\n",
      "Step 420 of 2900\n",
      "Step 430 of 2900\n",
      "Step 440 of 2900\n",
      "Step 450 of 2900\n",
      "Could not find index for key 585385246\n",
      "Step 460 of 2900\n",
      "Step 470 of 2900\n",
      "Step 480 of 2900\n",
      "Step 490 of 2900\n",
      "Step 500 of 2900\n",
      "Step 510 of 2900\n",
      "Step 520 of 2900\n",
      "Step 530 of 2900\n",
      "Step 540 of 2900\n",
      "Step 550 of 2900\n",
      "Step 560 of 2900\n",
      "Step 570 of 2900\n",
      "Step 580 of 2900\n",
      "Step 590 of 2900\n",
      "Step 600 of 2900\n",
      "Step 610 of 2900\n",
      "Step 620 of 2900\n",
      "Could not find index for key 1729718016\n",
      "Step 630 of 2900\n",
      "Step 640 of 2900\n",
      "Step 650 of 2900\n",
      "Step 660 of 2900\n",
      "Step 670 of 2900\n",
      "Step 680 of 2900\n",
      "Step 690 of 2900\n",
      "Step 700 of 2900\n",
      "Step 710 of 2900\n",
      "Step 720 of 2900\n",
      "Step 730 of 2900\n",
      "Step 740 of 2900\n",
      "Step 750 of 2900\n",
      "Step 760 of 2900\n",
      "Step 770 of 2900\n",
      "Step 780 of 2900\n",
      "Step 790 of 2900\n",
      "Step 800 of 2900\n",
      "Step 810 of 2900\n",
      "Step 820 of 2900\n",
      "Step 830 of 2900\n",
      "Step 840 of 2900\n",
      "Step 850 of 2900\n",
      "Step 860 of 2900\n",
      "Step 870 of 2900\n",
      "Step 880 of 2900\n",
      "Step 890 of 2900\n",
      "Step 900 of 2900\n",
      "Step 910 of 2900\n",
      "Step 920 of 2900\n",
      "Step 930 of 2900\n",
      "Step 940 of 2900\n",
      "Step 950 of 2900\n",
      "Step 960 of 2900\n",
      "Step 970 of 2900\n",
      "Step 980 of 2900\n",
      "Step 990 of 2900\n",
      "Step 1000 of 2900\n",
      "Step 1010 of 2900\n",
      "Step 1020 of 2900\n",
      "Step 1030 of 2900\n",
      "Step 1040 of 2900\n",
      "Step 1050 of 2900\n",
      "Step 1060 of 2900\n",
      "Step 1070 of 2900\n",
      "Step 1080 of 2900\n",
      "Step 1090 of 2900\n",
      "Step 1100 of 2900\n",
      "Step 1110 of 2900\n",
      "Step 1120 of 2900\n",
      "Step 1130 of 2900\n",
      "Step 1140 of 2900\n",
      "Step 1150 of 2900\n",
      "Step 1160 of 2900\n",
      "Step 1170 of 2900\n",
      "Step 1180 of 2900\n",
      "Step 1190 of 2900\n",
      "Step 1200 of 2900\n",
      "Step 1210 of 2900\n",
      "Step 1220 of 2900\n",
      "Step 1230 of 2900\n",
      "Step 1240 of 2900\n",
      "Step 1250 of 2900\n",
      "Step 1260 of 2900\n",
      "Step 1270 of 2900\n",
      "Step 1280 of 2900\n",
      "Step 1290 of 2900\n",
      "Step 1300 of 2900\n",
      "Step 1310 of 2900\n",
      "Step 1320 of 2900\n",
      "Step 1330 of 2900\n",
      "Step 1340 of 2900\n",
      "Step 1350 of 2900\n",
      "Step 1360 of 2900\n",
      "Step 1370 of 2900\n",
      "Step 1380 of 2900\n",
      "Step 1390 of 2900\n",
      "Could not find index for key 677564280\n",
      "Step 1400 of 2900\n",
      "Step 1410 of 2900\n",
      "Step 1420 of 2900\n",
      "Step 1430 of 2900\n",
      "Step 1440 of 2900\n",
      "Step 1450 of 2900\n",
      "Step 1460 of 2900\n",
      "Step 1470 of 2900\n",
      "Step 1480 of 2900\n",
      "Step 1490 of 2900\n",
      "Step 1500 of 2900\n",
      "Step 1510 of 2900\n",
      "Step 1520 of 2900\n",
      "Step 1530 of 2900\n",
      "Step 1540 of 2900\n",
      "Step 1550 of 2900\n",
      "Step 1560 of 2900\n",
      "Step 1570 of 2900\n",
      "Step 1580 of 2900\n",
      "Step 1590 of 2900\n",
      "Step 1600 of 2900\n",
      "Could not find index for key 1227854296\n",
      "Step 1610 of 2900\n",
      "Step 1620 of 2900\n",
      "Step 1630 of 2900\n",
      "Step 1640 of 2900\n",
      "Step 1650 of 2900\n",
      "Step 1660 of 2900\n",
      "Step 1670 of 2900\n",
      "Step 1680 of 2900\n",
      "Step 1690 of 2900\n",
      "Step 1700 of 2900\n",
      "Step 1710 of 2900\n",
      "Step 1720 of 2900\n",
      "Step 1730 of 2900\n",
      "Step 1740 of 2900\n",
      "Step 1750 of 2900\n",
      "Step 1760 of 2900\n",
      "Step 1770 of 2900\n",
      "Step 1780 of 2900\n",
      "Step 1790 of 2900\n",
      "Could not find index for key 527725557\n",
      "Step 1800 of 2900\n",
      "Step 1810 of 2900\n",
      "Step 1820 of 2900\n",
      "Step 1830 of 2900\n",
      "Step 1840 of 2900\n",
      "Step 1850 of 2900\n",
      "Step 1860 of 2900\n",
      "Step 1870 of 2900\n",
      "Step 1880 of 2900\n",
      "Step 1890 of 2900\n",
      "Step 1900 of 2900\n",
      "Step 1910 of 2900\n",
      "Step 1920 of 2900\n",
      "Step 1930 of 2900\n",
      "Step 1940 of 2900\n",
      "Step 1950 of 2900\n",
      "Step 1960 of 2900\n",
      "Step 1970 of 2900\n",
      "Step 1980 of 2900\n",
      "Step 1990 of 2900\n",
      "Step 2000 of 2900\n",
      "Step 2010 of 2900\n",
      "Step 2020 of 2900\n",
      "Step 2030 of 2900\n",
      "Step 2040 of 2900\n",
      "Step 2050 of 2900\n",
      "Step 2060 of 2900\n",
      "Step 2070 of 2900\n",
      "Step 2080 of 2900\n",
      "Step 2090 of 2900\n",
      "Step 2100 of 2900\n",
      "Step 2110 of 2900\n",
      "Step 2120 of 2900\n",
      "Step 2130 of 2900\n",
      "Step 2140 of 2900\n",
      "Step 2150 of 2900\n",
      "Step 2160 of 2900\n",
      "Step 2170 of 2900\n",
      "Step 2180 of 2900\n",
      "Step 2190 of 2900\n",
      "Step 2200 of 2900\n",
      "Step 2210 of 2900\n",
      "Step 2220 of 2900\n",
      "Step 2230 of 2900\n",
      "Step 2240 of 2900\n",
      "Step 2250 of 2900\n",
      "Step 2260 of 2900\n",
      "Step 2270 of 2900\n",
      "Step 2280 of 2900\n",
      "Step 2290 of 2900\n",
      "Step 2300 of 2900\n",
      "Step 2310 of 2900\n",
      "Step 2320 of 2900\n",
      "Step 2330 of 2900\n",
      "Step 2340 of 2900\n",
      "Step 2350 of 2900\n",
      "Step 2360 of 2900\n",
      "Step 2370 of 2900\n",
      "Step 2380 of 2900\n",
      "Step 2390 of 2900\n",
      "Step 2400 of 2900\n",
      "Step 2410 of 2900\n",
      "Step 2420 of 2900\n",
      "Step 2430 of 2900\n",
      "Step 2440 of 2900\n",
      "Step 2450 of 2900\n",
      "Could not find index for key 1894751075\n",
      "Step 2460 of 2900\n",
      "Step 2470 of 2900\n",
      "Step 2480 of 2900\n",
      "Step 2490 of 2900\n",
      "Step 2500 of 2900\n",
      "Step 2510 of 2900\n",
      "Step 2520 of 2900\n",
      "Step 2530 of 2900\n",
      "Step 2540 of 2900\n",
      "Step 2550 of 2900\n",
      "Step 2560 of 2900\n",
      "Step 2570 of 2900\n",
      "Step 2580 of 2900\n",
      "Step 2590 of 2900\n",
      "Step 2600 of 2900\n",
      "Step 2610 of 2900\n",
      "Step 2620 of 2900\n",
      "Step 2630 of 2900\n",
      "Step 2640 of 2900\n",
      "Step 2650 of 2900\n",
      "Step 2660 of 2900\n",
      "Step 2670 of 2900\n",
      "Step 2680 of 2900\n",
      "Step 2690 of 2900\n",
      "Step 2700 of 2900\n",
      "Step 2710 of 2900\n",
      "Step 2720 of 2900\n",
      "Step 2730 of 2900\n",
      "Step 2740 of 2900\n",
      "Step 2750 of 2900\n",
      "Step 2760 of 2900\n",
      "Step 2770 of 2900\n",
      "Step 2780 of 2900\n",
      "Step 2790 of 2900\n",
      "Step 2800 of 2900\n",
      "Step 2810 of 2900\n",
      "Step 2820 of 2900\n",
      "Step 2830 of 2900\n",
      "Step 2840 of 2900\n",
      "Step 2850 of 2900\n",
      "Could not find index for key 1365606297\n",
      "Step 2860 of 2900\n",
      "Step 2870 of 2900\n",
      "Step 2880 of 2900\n"
     ]
    }
   ],
   "source": [
    "count = len(creator_keys)\n",
    "for key in tech_projects:\n",
    "    if key not in creator_keys:\n",
    "        \n",
    "        try:\n",
    "            url = tech_projects[key]['creator']['urls']['web']['user']\n",
    "            r = requests.get(url).text\n",
    "            soup = BeautifulSoup(r)\n",
    "\n",
    "            s = soup.find_all(id='project_nav')[0].text\n",
    "            s_rep = s.replace('\\n','')\n",
    "            backed = int(re.search('Backed(.+?)Created', s_rep).group(1).strip('()').replace(',',''))\n",
    "            created = int(re.search('Created(.+?)Comments', s_rep).group(1).strip('()').replace(',',''))\n",
    "            comments = int(re.search('Comments\\n(.+?)\\n', s).group(1).strip('()').replace(',',''))\n",
    "\n",
    "            #user_id = tech_projects[key]['creator']['id']\n",
    "            #ref = \"/profile/%s/created\" % str(user_id)\n",
    "            #created_str = soup.find_all(href=ref)[0].text\n",
    "            #created = int(re.search('Created\\n(.+?)\\n', created_str).group(1).strip('()'))\n",
    "\n",
    "            #backed_str = soup.find_all(id='list_title')[0].text\n",
    "            #backed = int(re.search('Backed\\n(.+?)\\n', backed_str).group(1).strip('()'))\n",
    "\n",
    "            creator_keys.append(key)\n",
    "            creator_backed.append(backed)\n",
    "            creator_created.append(created)\n",
    "            creator_comments.append(comments)\n",
    "\n",
    "            time.sleep(0.1)\n",
    "\n",
    "            if count % 10 == 0:            \n",
    "                print 'Step %d of %d' % (count, len(tech_projects.keys()))\n",
    "                sys.stdout.flush()\n",
    "        except IndexError:\n",
    "            print 'Could not find index for key %d' % key\n",
    "            continue\n",
    "            \n",
    "        count = count+1        "
   ]
  },
  {
   "cell_type": "code",
   "execution_count": 74,
   "metadata": {
    "collapsed": false
   },
   "outputs": [],
   "source": [
    "df = pd.DataFrame()\n",
    "df['keys'] = creator_keys\n",
    "df['number_backed'] = creator_backed\n",
    "df['number_created'] = creator_created\n",
    "df['number_comments'] = creator_comments\n",
    "pickle.dump(df, open('data/creator_data_06_09.p','wb'))"
   ]
  },
  {
   "cell_type": "code",
   "execution_count": 75,
   "metadata": {
    "collapsed": false
   },
   "outputs": [
    {
     "data": {
      "text/plain": [
       "89"
      ]
     },
     "execution_count": 75,
     "metadata": {},
     "output_type": "execute_result"
    }
   ],
   "source": [
    "max(df['number_created'])"
   ]
  },
  {
   "cell_type": "code",
   "execution_count": 76,
   "metadata": {
    "collapsed": false
   },
   "outputs": [
    {
     "data": {
      "text/plain": [
       "413"
      ]
     },
     "execution_count": 76,
     "metadata": {},
     "output_type": "execute_result"
    }
   ],
   "source": [
    "max(df['number_backed'])"
   ]
  },
  {
   "cell_type": "code",
   "execution_count": 81,
   "metadata": {
    "collapsed": false
   },
   "outputs": [
    {
     "data": {
      "text/plain": [
       "<matplotlib.axes._subplots.AxesSubplot at 0x107ada250>"
      ]
     },
     "execution_count": 81,
     "metadata": {},
     "output_type": "execute_result"
    },
    {
     "data": {
      "image/png": "[encoded data removed]",
      "text/plain": [
       "<matplotlib.figure.Figure at 0x107bacd90>"
      ]
     },
     "metadata": {},
     "output_type": "display_data"
    }
   ],
   "source": [
    "df[df['number_created']<10]['number_created'].hist(bins=20)"
   ]
  },
  {
   "cell_type": "code",
   "execution_count": 82,
   "metadata": {
    "collapsed": true
   },
   "outputs": [],
   "source": [
    "import create_database \n",
    "cdb = create_database.create_database()"
   ]
  },
  {
   "cell_type": "code",
   "execution_count": 83,
   "metadata": {
    "collapsed": false
   },
   "outputs": [
    {
     "data": {
      "text/plain": [
       "[{u'Tables_in_kickstarterdb': u'comments'},\n",
       " {u'Tables_in_kickstarterdb': u'funding_goal'},\n",
       " {u'Tables_in_kickstarterdb': u'projects'}]"
      ]
     },
     "execution_count": 83,
     "metadata": {},
     "output_type": "execute_result"
    }
   ],
   "source": [
    "cdb._show_tables()"
   ]
  },
  {
   "cell_type": "code",
   "execution_count": 87,
   "metadata": {
    "collapsed": false
   },
   "outputs": [
    {
     "data": {
      "text/plain": [
       "'https://www.kickstarter.com/projects/1280267427/transgender-murder-violence-and-suicide-website?ref=discovery'"
      ]
     },
     "execution_count": 87,
     "metadata": {},
     "output_type": "execute_result"
    }
   ],
   "source": [
    "tech_projects[tech_projects.keys()[0]]['urls']['web']['project'].encode(\"ascii\",\"ignore\")"
   ]
  },
  {
   "cell_type": "code",
   "execution_count": null,
   "metadata": {
    "collapsed": true
   },
   "outputs": [],
   "source": []
  }
 ],
 "metadata": {
  "kernelspec": {
   "display_name": "Python 2",
   "language": "python",
   "name": "python2"
  },
  "language_info": {
   "codemirror_mode": {
    "name": "ipython",
    "version": 2
   },
   "file_extension": ".py",
   "mimetype": "text/x-python",
   "name": "python",
   "nbconvert_exporter": "python",
   "pygments_lexer": "ipython2",
   "version": "2.7.10"
  }
 },
 "nbformat": 4,
 "nbformat_minor": 0
}
