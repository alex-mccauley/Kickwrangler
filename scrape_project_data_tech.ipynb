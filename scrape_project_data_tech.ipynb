{
 "cells": [
  {
   "cell_type": "code",
   "execution_count": 64,
   "metadata": {
    "collapsed": true
   },
   "outputs": [],
   "source": [
    "import numpy as np\n",
    "import pandas as pd\n",
    "import matplotlib.pyplot as plt\n",
    "%matplotlib inline\n",
    "import time\n",
    "import json\n",
    "import requests\n",
    "import sys\n",
    "import pickle\n",
    "from selenium import webdriver"
   ]
  },
  {
   "cell_type": "code",
   "execution_count": 6,
   "metadata": {
    "collapsed": true
   },
   "outputs": [],
   "source": [
    "opt = webdriver.ChromeOptions()\n",
    "opt.add_extension(\"Block-image_v1.1.crx\")\n",
    "driver = webdriver.Chrome(chrome_options=opt)"
   ]
  },
  {
   "cell_type": "code",
   "execution_count": 3,
   "metadata": {
    "collapsed": true
   },
   "outputs": [],
   "source": [
    "# starting page\n",
    "url_tech_live = 'https://www.kickstarter.com/discover/advanced.json?state=live&category_id=16&woe_id=0&sort=newest'\n",
    "url_tech_successful = 'https://www.kickstarter.com/discover/advanced?state=successful&category_id=16&sort=newest'"
   ]
  },
  {
   "cell_type": "code",
   "execution_count": 7,
   "metadata": {
    "collapsed": true
   },
   "outputs": [],
   "source": [
    "from collections import defaultdict\n",
    "import sys\n",
    "\n",
    "# total number of search results for projects\n",
    "def get_number_of_hits(d):\n",
    "    number_of_hits = driver.find_element_by_xpath('//*[@id=\"projects\"]/div[2]/h3/b')\n",
    "    return int(number_of_hits.text.split(' ')[0].replace(',',''))\n",
    "\n",
    "def get_project_data(d, base_url):\n",
    "\n",
    "    d.get(base_url.replace('.json', ''))\n",
    "    number_of_hits = get_number_of_hits(d)\n",
    "    print 'Extracting data for %d projects' % number_of_hits\n",
    "\n",
    "    # determine number of pages\n",
    "    results_per_page = 20\n",
    "    number_of_pages = int(np.ceil(number_of_hits / results_per_page)) + 1 # add extra page for margin\n",
    "\n",
    "    output_dict = defaultdict(dict)\n",
    "    for page in range(number_of_pages):\n",
    "        try:\n",
    "            print 'Extracting page %d of %d' % (page, number_of_pages)\n",
    "            sys.stdout.flush()\n",
    "\n",
    "            page_url = base_url + '&page=%d' % page\n",
    "            url_text = requests.get(page_url).text\n",
    "            url_json = json.loads(url_text)\n",
    "\n",
    "            for proj in url_json['projects']:\n",
    "                # get project, assume 'id' is a unique key\n",
    "                key = proj['id']\n",
    "                output_dict.update({key:proj})\n",
    "        except ValueError:\n",
    "            print \"Error on page %d\" % page\n",
    "    print 'Finished page %d of %d total' % (page, number_of_pages - 1)\n",
    "    return output_dict                        "
   ]
  },
  {
   "cell_type": "code",
   "execution_count": 8,
   "metadata": {
    "collapsed": true
   },
   "outputs": [
    {
     "name": "stdout",
     "output_type": "stream",
     "text": [
      "Extracting data for 896 projects\n",
      "Extracting page 0 of 45\n",
      "Extracting page 1 of 45\n",
      "Extracting page 2 of 45\n",
      "Extracting page 3 of 45\n",
      "Extracting page 4 of 45\n",
      "Extracting page 5 of 45\n",
      "Extracting page 6 of 45\n",
      "Extracting page 7 of 45\n",
      "Extracting page 8 of 45\n",
      "Extracting page 9 of 45\n",
      "Extracting page 10 of 45\n",
      "Extracting page 11 of 45\n",
      "Extracting page 12 of 45\n",
      "Extracting page 13 of 45\n",
      "Extracting page 14 of 45\n",
      "Extracting page 15 of 45\n",
      "Extracting page 16 of 45\n",
      "Extracting page 17 of 45\n",
      "Extracting page 18 of 45\n",
      "Extracting page 19 of 45\n",
      "Extracting page 20 of 45\n",
      "Extracting page 21 of 45\n",
      "Extracting page 22 of 45\n",
      "Extracting page 23 of 45\n",
      "Extracting page 24 of 45\n",
      "Extracting page 25 of 45\n",
      "Extracting page 26 of 45\n",
      "Extracting page 27 of 45\n",
      "Extracting page 28 of 45\n",
      "Extracting page 29 of 45\n",
      "Extracting page 30 of 45\n",
      "Extracting page 31 of 45\n",
      "Extracting page 32 of 45\n",
      "Extracting page 33 of 45\n",
      "Extracting page 34 of 45\n",
      "Extracting page 35 of 45\n",
      "Extracting page 36 of 45\n",
      "Extracting page 37 of 45\n",
      "Extracting page 38 of 45\n",
      "Extracting page 39 of 45\n",
      "Extracting page 40 of 45\n",
      "Extracting page 41 of 45\n",
      "Extracting page 42 of 45\n",
      "Extracting page 43 of 45\n",
      "Extracting page 44 of 45\n",
      "Finished page 44 of 44 total\n"
     ]
    }
   ],
   "source": [
    "tech_projects_live = get_project_data(driver, url_tech_live)"
   ]
  },
  {
   "cell_type": "code",
   "execution_count": 45,
   "metadata": {
    "collapsed": false
   },
   "outputs": [
    {
     "name": "stdout",
     "output_type": "stream",
     "text": [
      "1432857959 1432938506 1435530506\n"
     ]
    }
   ],
   "source": [
    "p = tech_projects_live.items()[0][1]\n",
    "print p['created_at'], p['launched_at'], p['deadline']"
   ]
  },
  {
   "cell_type": "code",
   "execution_count": 12,
   "metadata": {
    "collapsed": false
   },
   "outputs": [],
   "source": [
    "pickle.dump(tech_projects_live, open('data/projects_live_tech_06_20.p','wb'))"
   ]
  },
  {
   "cell_type": "code",
   "execution_count": 48,
   "metadata": {
    "collapsed": false
   },
   "outputs": [
    {
     "data": {
      "text/plain": [
       "715287894"
      ]
     },
     "execution_count": 48,
     "metadata": {},
     "output_type": "execute_result"
    }
   ],
   "source": [
    "p['id']"
   ]
  },
  {
   "cell_type": "code",
   "execution_count": 50,
   "metadata": {
    "collapsed": false
   },
   "outputs": [
    {
     "data": {
      "text/plain": [
       "{u'project': u'https://www.kickstarter.com/projects/schimpfoessl/general-aviation-pilots-portal-find-local-planes-t?ref=discovery',\n",
       " u'rewards': u'https://www.kickstarter.com/projects/schimpfoessl/general-aviation-pilots-portal-find-local-planes-t/rewards'}"
      ]
     },
     "execution_count": 50,
     "metadata": {},
     "output_type": "execute_result"
    }
   ],
   "source": [
    "p['urls']['web']"
   ]
  },
  {
   "cell_type": "code",
   "execution_count": 44,
   "metadata": {
    "collapsed": false
   },
   "outputs": [
    {
     "data": {
      "text/plain": [
       "1431017802"
      ]
     },
     "execution_count": 44,
     "metadata": {},
     "output_type": "execute_result"
    }
   ],
   "source": [
    "p['launched_at']"
   ]
  },
  {
   "cell_type": "code",
   "execution_count": 43,
   "metadata": {
    "collapsed": false
   },
   "outputs": [
    {
     "data": {
      "text/plain": [
       "1436201802"
      ]
     },
     "execution_count": 43,
     "metadata": {},
     "output_type": "execute_result"
    }
   ],
   "source": [
    "p['deadline']"
   ]
  },
  {
   "cell_type": "code",
   "execution_count": 41,
   "metadata": {
    "collapsed": true
   },
   "outputs": [],
   "source": [
    "d = [6, 9, 26]\n",
    "id = [1436201802, 1436447177, 1437939730]"
   ]
  },
  {
   "cell_type": "code",
   "execution_count": 42,
   "metadata": {
    "collapsed": false
   },
   "outputs": [
    {
     "data": {
      "text/plain": [
       "<matplotlib.collections.PathCollection at 0x10b434d50>"
      ]
     },
     "execution_count": 42,
     "metadata": {},
     "output_type": "execute_result"
    },
    {
     "data": {
      "image/png": "[encoded data removed]",
      "text/plain": [
       "<matplotlib.figure.Figure at 0x10618d210>"
      ]
     },
     "metadata": {},
     "output_type": "display_data"
    }
   ],
   "source": [
    "plt.scatter(d, id)"
   ]
  },
  {
   "cell_type": "code",
   "execution_count": 51,
   "metadata": {
    "collapsed": true
   },
   "outputs": [],
   "source": [
    "import process_data\n",
    "project_df = process_data.convert_project_dict_to_dataframe(tech_projects_live)"
   ]
  },
  {
   "cell_type": "code",
   "execution_count": 62,
   "metadata": {
    "collapsed": false
   },
   "outputs": [
    {
     "data": {
      "text/html": [
       "<div style=\"max-height:1000px;max-width:1500px;overflow:auto;\">\n",
       "<table border=\"1\" class=\"dataframe\">\n",
       "  <thead>\n",
       "    <tr style=\"text-align: right;\">\n",
       "      <th></th>\n",
       "      <th>project_id</th>\n",
       "      <th>backers</th>\n",
       "      <th>pledged</th>\n",
       "      <th>goal</th>\n",
       "      <th>category_id</th>\n",
       "      <th>category_name</th>\n",
       "      <th>urls</th>\n",
       "      <th>creator_id</th>\n",
       "    </tr>\n",
       "  </thead>\n",
       "  <tbody>\n",
       "    <tr>\n",
       "      <th>293</th>\n",
       "      <td>2084315011</td>\n",
       "      <td>952</td>\n",
       "      <td>294907.58</td>\n",
       "      <td>120000</td>\n",
       "      <td>52</td>\n",
       "      <td>technology/hardware</td>\n",
       "      <td>https://www.kickstarter.com/projects/keyboardi...</td>\n",
       "      <td>1021362599</td>\n",
       "    </tr>\n",
       "  </tbody>\n",
       "</table>\n",
       "</div>"
      ],
      "text/plain": [
       "     project_id  backers    pledged    goal  category_id        category_name  \\\n",
       "293  2084315011      952  294907.58  120000           52  technology/hardware   \n",
       "\n",
       "                                                  urls  creator_id  \n",
       "293  https://www.kickstarter.com/projects/keyboardi...  1021362599  "
      ]
     },
     "execution_count": 62,
     "metadata": {},
     "output_type": "execute_result"
    }
   ],
   "source": [
    "in_url = lambda row, url: url in row['urls']\n",
    "def strip_url(url):\n",
    "    url_split = url.split('?')\n",
    "    return '?'.join(url_split[:-1]) # keep any interior question marks\n",
    "project_df[project_df.apply(lambda x: in_url(x, strip_url(\"https://www.kickstarter.com/projects/keyboardio/the-model-01-an-heirloom-grade-keyboard-for-seriou?ref=category\")),axis=1)]"
   ]
  },
  {
   "cell_type": "markdown",
   "metadata": {},
   "source": [
    "### Create test probabilities for frontend"
   ]
  },
  {
   "cell_type": "code",
   "execution_count": 70,
   "metadata": {
    "collapsed": false
   },
   "outputs": [],
   "source": [
    "new_df = pd.DataFrame(project_df['project_id'].copy(deep=True))\n",
    "new_df['success_prob'] = np.random.uniform(size=new_df.shape)\n",
    "pickle.dump(new_df,open('data/success_probabilities_tech_live_test.p','wb'))"
   ]
  },
  {
   "cell_type": "code",
   "execution_count": null,
   "metadata": {
    "collapsed": true
   },
   "outputs": [],
   "source": []
  }
 ],
 "metadata": {
  "kernelspec": {
   "display_name": "Python 2",
   "language": "python",
   "name": "python2"
  },
  "language_info": {
   "codemirror_mode": {
    "name": "ipython",
    "version": 2
   },
   "file_extension": ".py",
   "mimetype": "text/x-python",
   "name": "python",
   "nbconvert_exporter": "python",
   "pygments_lexer": "ipython2",
   "version": "2.7.10"
  }
 },
 "nbformat": 4,
 "nbformat_minor": 0
}
