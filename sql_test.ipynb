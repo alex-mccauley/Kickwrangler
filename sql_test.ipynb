{
 "cells": [
  {
   "cell_type": "code",
   "execution_count": 4,
   "metadata": {
    "collapsed": false
   },
   "outputs": [],
   "source": [
    "import create_database\n",
    "reload(create_database)\n",
    "cdb = create_database.create_database()"
   ]
  },
  {
   "cell_type": "code",
   "execution_count": 5,
   "metadata": {
    "collapsed": false
   },
   "outputs": [
    {
     "data": {
      "text/plain": [
       "[{u'Tables_in_kickstarterdb': u'comments'},\n",
       " {u'Tables_in_kickstarterdb': u'funding_goal'},\n",
       " {u'Tables_in_kickstarterdb': u'projects'}]"
      ]
     },
     "execution_count": 5,
     "metadata": {},
     "output_type": "execute_result"
    }
   ],
   "source": [
    "cdb._show_tables()"
   ]
  },
  {
   "cell_type": "code",
   "execution_count": 9,
   "metadata": {
    "collapsed": false
   },
   "outputs": [
    {
     "data": {
      "text/plain": [
       "[{u'date': datetime.date(2013, 11, 15),\n",
       "  u'project_id': 1842798593,\n",
       "  u'text': u'What an awesome tool and you are just the person to design it This will become a valuable resource for the transgender community as well as their allies Im so proud of the work you are doing 3'},\n",
       " {u'date': datetime.date(2013, 11, 7),\n",
       "  u'project_id': 1842798593,\n",
       "  u'text': u'Awesome to see your past your goal good luck with the project'},\n",
       " {u'date': datetime.date(2013, 11, 7),\n",
       "  u'project_id': 1842798593,\n",
       "  u'text': u'Organizations like the Pacific Justice Institute what a misnomer are directing their actions against trans children in particular now They are financially participating in attempt to roll back the recent California protections of young trans people as well as continuing to create dangerous environments for trans kids in other states like Colorado Several of their cocontributors to this have established histories of using their resources against equal rights for LGBT people They are wealthy people entrenched in or perhaps acting on behalf of large conservative churches and their social action attack dogs These people have shifted their focus from opposing marriage equality to attacking even more vulnerable trans people making the world less safe for them Help this project if you can  or share it with others'},\n",
       " {u'date': datetime.date(2013, 11, 1),\n",
       "  u'project_id': 1842798593,\n",
       "  u'text': u'This is such a necessary tool We really MUST see this project fully funded We need accurate data to use in the movement to make the world safer for people based on their perceived or actual gender identity gender expression and sexual orientation'},\n",
       " {u'date': datetime.date(2014, 12, 3),\n",
       "  u'project_id': 509500187,\n",
       "  u'text': u'Great news'}]"
      ]
     },
     "execution_count": 9,
     "metadata": {},
     "output_type": "execute_result"
    }
   ],
   "source": [
    "cdb._execute_sql(\"SELECT * FROM comments WHERE text IS NOT NULL LIMIT 5\")"
   ]
  },
  {
   "cell_type": "code",
   "execution_count": 10,
   "metadata": {
    "collapsed": false
   },
   "outputs": [
    {
     "name": "stdout",
     "output_type": "stream",
     "text": [
      "2015-06-05-comments_db_with_simple_sentiments.p  2015_06_10_game_comments_db.p\r\n",
      "2015-06-08-comments_db_with_simple_sentiments.p  2015_06_10_game_comments_total_db.p\r\n",
      "2015-06-10-comments_db_with_simple_sentiments.p  2015_06_10_games_projects.p\r\n",
      "2015_06_04_comments_db_short.p                   \u001b[34mbackup-June-06\u001b[m\u001b[m/\r\n",
      "2015_06_04_comments_dbt_short.p                  \u001b[34mbackups\u001b[m\u001b[m/\r\n",
      "2015_06_04_tech_projects.p                       campaign_goal_data_06_09.p\r\n",
      "2015_06_04_tech_projects_short.p                 create_database.py\r\n",
      "2015_06_05_comments_db.p                         creator_data_06_09.p\r\n",
      "2015_06_05_comments_dbt.p                        sentiment_data_06_06.p\r\n",
      "2015_06_06_comments_db.p                         sentiment_data_06_08.p\r\n",
      "2015_06_06_comments_dbt.p                        sentiment_data_06_10.p\r\n",
      "2015_06_08_predictive_features.p\r\n"
     ]
    }
   ],
   "source": [
    "ls data*"
   ]
  },
  {
   "cell_type": "code",
   "execution_count": null,
   "metadata": {
    "collapsed": true
   },
   "outputs": [],
   "source": []
  }
 ],
 "metadata": {
  "kernelspec": {
   "display_name": "Python 2",
   "language": "python",
   "name": "python2"
  },
  "language_info": {
   "codemirror_mode": {
    "name": "ipython",
    "version": 2
   },
   "file_extension": ".py",
   "mimetype": "text/x-python",
   "name": "python",
   "nbconvert_exporter": "python",
   "pygments_lexer": "ipython2",
   "version": "2.7.10"
  }
 },
 "nbformat": 4,
 "nbformat_minor": 0
}
