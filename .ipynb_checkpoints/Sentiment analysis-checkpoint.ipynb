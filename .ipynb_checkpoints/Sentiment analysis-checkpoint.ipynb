{
 "cells": [
  {
   "cell_type": "markdown",
   "metadata": {},
   "source": [
    "## Read in Data"
   ]
  },
  {
   "cell_type": "code",
   "execution_count": 1,
   "metadata": {
    "collapsed": true
   },
   "outputs": [],
   "source": [
    "import pickle\n",
    "import numpy as np\n",
    "import pandas as pd\n",
    "import matplotlib.pyplot as plt\n",
    "%matplotlib inline"
   ]
  },
  {
   "cell_type": "code",
   "execution_count": 2,
   "metadata": {
    "collapsed": false
   },
   "outputs": [],
   "source": [
    "tech_projects = pickle.load(open('data/2015_06_04_tech_projects.p','rb'))"
   ]
  },
  {
   "cell_type": "code",
   "execution_count": 3,
   "metadata": {
    "collapsed": false
   },
   "outputs": [],
   "source": [
    "# read in data\n",
    "#comments_db = pickle.load(open('data/2015_06_04_comments_db_short.p','rb'))\n",
    "#total_comments_db = pickle.load(open('data/2015_06_04_comments_dbt_short.p','rb'))\n",
    "comments_db = pickle.load(open('data/2015_06_06_comments_db.p','rb'))\n",
    "total_comments_db = pickle.load(open('data/2015_06_06_comments_dbt.p','rb'))"
   ]
  },
  {
   "cell_type": "code",
   "execution_count": 4,
   "metadata": {
    "collapsed": false
   },
   "outputs": [
    {
     "data": {
      "text/plain": [
       "2899"
      ]
     },
     "execution_count": 4,
     "metadata": {},
     "output_type": "execute_result"
    }
   ],
   "source": [
    "comment_keys = comments_db.keys()\n",
    "len(comment_keys)"
   ]
  },
  {
   "cell_type": "markdown",
   "metadata": {},
   "source": [
    "## Define NLP functions"
   ]
  },
  {
   "cell_type": "code",
   "execution_count": 5,
   "metadata": {
    "collapsed": true
   },
   "outputs": [],
   "source": [
    "import nltk\n",
    "from nltk import word_tokenize\n",
    "stemmer = nltk.stem.porter.PorterStemmer()"
   ]
  },
  {
   "cell_type": "code",
   "execution_count": 24,
   "metadata": {
    "collapsed": true
   },
   "outputs": [],
   "source": [
    "# define custom tags\n",
    "# add: fucking, wait, sorry, rude, \"no answer\", \"no response\", problem, complaint, mistake, unprofessional, wtf\n",
    "good_words = map(stemmer.stem, ['great', 'cool', 'fast', 'awesome', 'excited', 'shipped', 'received'])\n",
    "#bad_words = map(stemmer.stem, ['delay','late','refund','worst','awful', 'bad', 'fraud','dead','cancel','shame','stole','scam']) # add 'cancel', shame, stole\n",
    "bad_words = map(stemmer.stem, ['delay','late','refund','worst','awful', 'bad', 'fraud','dead','cancel','shame','stole','scam','cancel', 'shame', 'stole','wtf','unprofessional','mistake','fucking','wait','sorry','rude','complaint', 'mistake'])"
   ]
  },
  {
   "cell_type": "code",
   "execution_count": 10,
   "metadata": {
    "collapsed": true
   },
   "outputs": [],
   "source": [
    "def get_comment_sentiment_simple(comment, s, good_words, bad_words):\n",
    "    tokenized = word_tokenize(comment.lower())\n",
    "    stemmed = map(s.stem, tokenized)\n",
    "    word_count = len(stemmed)\n",
    "    \n",
    "    # simple: count positives and negatives\n",
    "    count = 0\n",
    "    for word in stemmed:\n",
    "        if word in good_words:\n",
    "            count = count + 1\n",
    "        if word in bad_words:\n",
    "            count = count - 1\n",
    "    return count, word_count"
   ]
  },
  {
   "cell_type": "markdown",
   "metadata": {},
   "source": [
    "## Simple web sentiment analysis"
   ]
  },
  {
   "cell_type": "code",
   "execution_count": 221,
   "metadata": {
    "collapsed": true
   },
   "outputs": [],
   "source": [
    "def get_comment_list(proj):\n",
    "    comment_list = []\n",
    "    date_list = []\n",
    "    for key in proj.keys():\n",
    "        comment_list.append(proj[key]['comment'])\n",
    "        date_list.append(proj[key]['date'])\n",
    "    return comment_list, date_list"
   ]
  },
  {
   "cell_type": "code",
   "execution_count": 246,
   "metadata": {
    "collapsed": true
   },
   "outputs": [],
   "source": [
    "def get_comment_sentiment_web(comment_list):\n",
    "    comments_combined = []\n",
    "    idx = []\n",
    "    for ii, c in enumerate(comment_list):\n",
    "        c_split = c.split('.')\n",
    "        first_line = c_split[0]\n",
    "        comments_combined.append(first_line)\n",
    "        idx.append(ii)\n",
    "    \n",
    "    # write to file\n",
    "    comment_file = 'comments.txt'\n",
    "    f = open(comment_file,'wb')\n",
    "    for c in comments_combined:\n",
    "        f.write(\"%s\\n\" % c)\n",
    "    f.close()\n",
    "    \n",
    "    # execute command\n",
    "    sentiment_file = 'comments_sentiments.txt'\n",
    "    os.system('curl --data-binary @%s \"http://www.sentiment140.com/api/bulkClassify\" > %s' % (comment_file,sentiment_file))\n",
    "    df = pd.DataFrame.from_csv(sentiment_file,header=None)\n",
    "    return df"
   ]
  },
  {
   "cell_type": "code",
   "execution_count": 314,
   "metadata": {
    "collapsed": false
   },
   "outputs": [],
   "source": [
    "def get_project_sentiment_web(comments_db, key):\n",
    "    proj = comments_db[key]\n",
    "    comment_list, date_list = get_comment_list(proj)\n",
    "    df_sentiment = get_comment_sentiment_web(comment_list)     \n",
    "    df_sentiment.rename(columns={1:'comment'},inplace=True)\n",
    "    df_sentiment['date'] = date_list\n",
    "    df_sentiment['key'] = key\n",
    "    \n",
    "    # web sentiments are scored as 0:negative, 2:neutral, 4:positive\n",
    "    # rescale so that negative = -1, neutral = 0, positive = +1\n",
    "    df_sentiment['web_sentiment'] = df_sentiment.index.values/2 - 1\n",
    "    \n",
    "    # add integer index\n",
    "    idx = range(0, len(df_sentiment))\n",
    "    df_sentiment['i'] = idx\n",
    "    df_sentiment.set_index(keys='i',drop=True,inplace=True)\n",
    "    \n",
    "    return df_sentiment"
   ]
  },
  {
   "cell_type": "code",
   "execution_count": 315,
   "metadata": {
    "collapsed": false
   },
   "outputs": [
    {
     "data": {
      "text/html": [
       "<div style=\"max-height:1000px;max-width:1500px;overflow:auto;\">\n",
       "<table border=\"1\" class=\"dataframe\">\n",
       "  <thead>\n",
       "    <tr style=\"text-align: right;\">\n",
       "      <th></th>\n",
       "      <th>comment</th>\n",
       "      <th>date</th>\n",
       "      <th>key</th>\n",
       "      <th>web_sentiment</th>\n",
       "    </tr>\n",
       "    <tr>\n",
       "      <th>i</th>\n",
       "      <th></th>\n",
       "      <th></th>\n",
       "      <th></th>\n",
       "      <th></th>\n",
       "    </tr>\n",
       "  </thead>\n",
       "  <tbody>\n",
       "    <tr>\n",
       "      <th>0</th>\n",
       "      <td>Anyone know the status of this project?</td>\n",
       "      <td>April 11, 2011</td>\n",
       "      <td>776496128</td>\n",
       "      <td>0</td>\n",
       "    </tr>\n",
       "    <tr>\n",
       "      <th>1</th>\n",
       "      <td>Congrates!</td>\n",
       "      <td>November 22, 2010</td>\n",
       "      <td>776496128</td>\n",
       "      <td>0</td>\n",
       "    </tr>\n",
       "    <tr>\n",
       "      <th>2</th>\n",
       "      <td>This is great</td>\n",
       "      <td>November 19, 2010</td>\n",
       "      <td>776496128</td>\n",
       "      <td>0</td>\n",
       "    </tr>\n",
       "    <tr>\n",
       "      <th>3</th>\n",
       "      <td>This is a great project! Most of the things th...</td>\n",
       "      <td>October 24, 2010</td>\n",
       "      <td>776496128</td>\n",
       "      <td>0</td>\n",
       "    </tr>\n",
       "    <tr>\n",
       "      <th>4</th>\n",
       "      <td>My proposal is that I will pledge $100 if you ...</td>\n",
       "      <td>October 21, 2010</td>\n",
       "      <td>776496128</td>\n",
       "      <td>0</td>\n",
       "    </tr>\n",
       "  </tbody>\n",
       "</table>\n",
       "</div>"
      ],
      "text/plain": [
       "                                             comment               date  \\\n",
       "i                                                                         \n",
       "0            Anyone know the status of this project?     April 11, 2011   \n",
       "1                                         Congrates!  November 22, 2010   \n",
       "2                                      This is great  November 19, 2010   \n",
       "3  This is a great project! Most of the things th...   October 24, 2010   \n",
       "4  My proposal is that I will pledge $100 if you ...   October 21, 2010   \n",
       "\n",
       "         key  web_sentiment  \n",
       "i                            \n",
       "0  776496128              0  \n",
       "1  776496128              0  \n",
       "2  776496128              0  \n",
       "3  776496128              0  \n",
       "4  776496128              0  "
      ]
     },
     "execution_count": 315,
     "metadata": {},
     "output_type": "execute_result"
    }
   ],
   "source": [
    "d = get_project_sentiment_web(comments_db, keys[0])\n",
    "d.head()"
   ]
  },
  {
   "cell_type": "markdown",
   "metadata": {},
   "source": [
    "###Compute web sentiment for all projects"
   ]
  },
  {
   "cell_type": "code",
   "execution_count": 323,
   "metadata": {
    "collapsed": true
   },
   "outputs": [
    {
     "name": "stdout",
     "output_type": "stream",
     "text": [
      "Ran project 0 of 159\n",
      "Ran project 1 of 159\n",
      "Ran project 2 of 159\n",
      "Ran project 3 of 159\n",
      "Ran project 4 of 159\n",
      "Ran project 5 of 159\n",
      "Ran project 6 of 159\n",
      "Ran project 7 of 159\n",
      "Ran project 8 of 159\n",
      "Ran project 9 of 159\n",
      "Ran project 10 of 159\n",
      "Ran project 11 of 159\n",
      "Ran project 12 of 159\n",
      "Failed on key 136125612\n",
      "Ran project 14 of 159\n",
      "Ran project 15 of 159\n",
      "Ran project 16 of 159\n",
      "Ran project 17 of 159\n",
      "Ran project 18 of 159\n",
      "Ran project 19 of 159\n",
      "Ran project 20 of 159\n",
      "Ran project 21 of 159\n",
      "Ran project 22 of 159\n",
      "Ran project 23 of 159\n",
      "Ran project 24 of 159\n",
      "Ran project 25 of 159\n",
      "Failed on key 276100515\n",
      "Ran project 27 of 159\n",
      "Ran project 28 of 159\n",
      "Ran project 29 of 159\n",
      "Ran project 30 of 159\n",
      "Ran project 31 of 159\n",
      "Ran project 32 of 159\n",
      "Ran project 33 of 159\n",
      "Ran project 34 of 159\n",
      "Ran project 35 of 159\n",
      "Failed on key 374202876\n",
      "Ran project 37 of 159\n",
      "Ran project 38 of 159\n",
      "Failed on key 425828491\n",
      "Ran project 40 of 159\n",
      "Ran project 41 of 159\n",
      "Ran project 42 of 159\n",
      "Ran project 43 of 159\n",
      "Ran project 44 of 159\n",
      "Ran project 45 of 159\n",
      "Failed on key 519098379\n",
      "Ran project 47 of 159\n",
      "Ran project 48 of 159\n",
      "Ran project 49 of 159\n",
      "Ran project 50 of 159\n",
      "Ran project 51 of 159\n",
      "Ran project 52 of 159\n",
      "Ran project 53 of 159\n",
      "Ran project 54 of 159\n",
      "Ran project 55 of 159\n",
      "Ran project 56 of 159\n",
      "Ran project 57 of 159\n",
      "Ran project 58 of 159\n",
      "Ran project 59 of 159\n",
      "Ran project 60 of 159\n",
      "Failed on key 750287126\n",
      "Failed on key 759484802\n",
      "Failed on key 767595643\n",
      "Ran project 64 of 159\n",
      "Ran project 65 of 159\n",
      "Failed on key 814814858\n",
      "Ran project 67 of 159\n",
      "Ran project 68 of 159\n",
      "Ran project 69 of 159\n",
      "Ran project 70 of 159\n",
      "Ran project 71 of 159\n",
      "Ran project 72 of 159\n",
      "Ran project 73 of 159\n",
      "Ran project 74 of 159\n",
      "Failed on key 890630469\n",
      "Ran project 76 of 159\n",
      "Ran project 77 of 159\n",
      "Ran project 78 of 159\n",
      "Ran project 79 of 159\n",
      "Ran project 80 of 159\n",
      "Ran project 81 of 159\n",
      "Ran project 82 of 159\n",
      "Ran project 83 of 159\n",
      "Ran project 84 of 159\n",
      "Ran project 85 of 159\n",
      "Ran project 86 of 159\n",
      "Ran project 87 of 159\n",
      "Ran project 88 of 159\n",
      "Ran project 89 of 159\n",
      "Ran project 90 of 159\n",
      "Failed on key 1232396063\n",
      "Failed on key 1246712663\n",
      "Ran project 93 of 159\n",
      "Failed on key 1290810465\n",
      "Ran project 95 of 159\n",
      "Ran project 96 of 159\n",
      "Ran project 97 of 159\n",
      "Ran project 98 of 159\n",
      "Ran project 99 of 159\n",
      "Ran project 100 of 159\n",
      "Failed on key 1382536449\n",
      "Ran project 102 of 159\n",
      "Failed on key 1403587531\n",
      "Ran project 104 of 159\n",
      "Ran project 105 of 159\n",
      "Ran project 106 of 159\n",
      "Ran project 107 of 159\n",
      "Ran project 108 of 159\n",
      "Ran project 109 of 159\n",
      "Ran project 110 of 159\n",
      "Ran project 111 of 159\n",
      "Ran project 112 of 159\n",
      "Ran project 113 of 159\n",
      "Ran project 114 of 159\n",
      "Ran project 115 of 159\n",
      "Ran project 116 of 159\n",
      "Ran project 117 of 159\n",
      "Ran project 118 of 159\n",
      "Ran project 119 of 159\n",
      "Ran project 120 of 159\n",
      "Ran project 121 of 159\n",
      "Ran project 122 of 159\n",
      "Ran project 123 of 159\n",
      "Ran project 124 of 159\n",
      "Ran project 125 of 159\n",
      "Ran project 126 of 159\n",
      "Ran project 127 of 159\n",
      "Ran project 128 of 159\n",
      "Ran project 129 of 159\n",
      "Ran project 130 of 159\n",
      "Ran project 131 of 159\n",
      "Ran project 132 of 159\n",
      "Failed on key 1747482024\n",
      "Failed on key 1749264058\n",
      "Failed on key 1751153745\n",
      "Ran project 136 of 159\n",
      "Ran project 137 of 159\n",
      "Ran project 138 of 159\n",
      "Ran project 139 of 159\n",
      "Failed on key 1828783337\n",
      "Ran project 141 of 159\n",
      "Ran project 142 of 159\n",
      "Ran project 143 of 159\n",
      "Ran project 144 of 159\n",
      "Failed on key 1901148649\n",
      "Ran project 146 of 159\n",
      "Ran project 147 of 159\n",
      "Ran project 148 of 159\n",
      "Ran project 149 of 159\n",
      "Failed on key 2021915973\n",
      "Ran project 151 of 159\n",
      "Ran project 152 of 159\n",
      "Ran project 153 of 159\n",
      "Ran project 154 of 159\n",
      "Failed on key 2093169625\n",
      "Ran project 156 of 159\n",
      "Ran project 157 of 159\n",
      "Failed on key 2143609454\n"
     ]
    }
   ],
   "source": [
    "import time\n",
    "\n",
    "key_list = np.unique(keys)\n",
    "df_sentiment_web = None\n",
    "for ii, k in enumerate(key_list):\n",
    "    try:\n",
    "        df0 = get_project_sentiment_web(comments_db, k)\n",
    "\n",
    "        if df_sentiment_web is None:\n",
    "            df_sentiment_web = df0\n",
    "        else:\n",
    "            df_sentiment_web = pd.concat([df_sentiment_web, df0])\n",
    "\n",
    "        print 'Ran project %d of %d' % (ii, len(key_list))\n",
    "    except:\n",
    "        print 'Failed on key %s' % str(k)\n",
    "    time.sleep(2) # avoid upsetting API"
   ]
  },
  {
   "cell_type": "markdown",
   "metadata": {},
   "source": [
    "## Stanford Parser"
   ]
  },
  {
   "cell_type": "code",
   "execution_count": 151,
   "metadata": {
    "collapsed": false
   },
   "outputs": [
    {
     "name": "stdout",
     "output_type": "stream",
     "text": [
      "[Errno 2] No such file or directory: '/NLP/corenlp-python-3.4.1-1/'\n",
      "/Users/alexmccauley/Documents/Insight_2015/Project/Kickstarter/NLP/corenlp-python-3.4.1-1\n"
     ]
    }
   ],
   "source": [
    "cd '/NLP/corenlp-python-3.4.1-1/'"
   ]
  },
  {
   "cell_type": "code",
   "execution_count": 152,
   "metadata": {
    "collapsed": false
   },
   "outputs": [],
   "source": [
    "#cd ('/Users/alexmccauley/Documents/Insight_2015/Project/Kickstarter/NLP/corenlp-python-3.4.1-1')\n",
    "from corenlp import StanfordCoreNLP\n",
    "corenlp_dir = '../stanford-corenlp-full-2015-04-20'\n",
    "corenlp = StanfordCoreNLP(corenlp_dir)"
   ]
  },
  {
   "cell_type": "markdown",
   "metadata": {},
   "source": [
    "##Process comments"
   ]
  },
  {
   "cell_type": "code",
   "execution_count": 45,
   "metadata": {
    "collapsed": false
   },
   "outputs": [
    {
     "data": {
      "text/plain": [
       "{'comment': u\"What an awesome tool and you are just the person to design it. This will become a valuable resource for the transgender community as well as their allies. I'm so proud of the work you are doing <3\",\n",
       " 'date': u'November 15, 2013',\n",
       " 'index': 0,\n",
       " 'sentiment': 1,\n",
       " 'user': u'James E. Vivian (deleted)',\n",
       " 'word_count': 42}"
      ]
     },
     "execution_count": 45,
     "metadata": {},
     "output_type": "execute_result"
    }
   ],
   "source": [
    "comments_db[comments_db.keys()[0]][0]"
   ]
  },
  {
   "cell_type": "code",
   "execution_count": 25,
   "metadata": {
    "collapsed": false
   },
   "outputs": [
    {
     "name": "stdout",
     "output_type": "stream",
     "text": [
      "10 percent complete\n",
      "20 percent complete\n",
      "30 percent complete\n",
      "40 percent complete\n",
      "50 percent complete\n",
      "60 percent complete\n",
      "70 percent complete\n",
      "80 percent complete\n",
      "90 percent complete\n"
     ]
    }
   ],
   "source": [
    "from __future__ import division\n",
    "\n",
    "n_keys = len(comments_db.keys())\n",
    "count = 0\n",
    "for key in comments_db:\n",
    "    count = count + 1\n",
    "    if count % int(round(n_keys/10)) == 0:\n",
    "        print '%d percent complete' % int( 100 * count / n_keys) \n",
    "    # individual projects\n",
    "    for key_c in comments_db[key]:\n",
    "        # individual comments\n",
    "        #try:\n",
    "        comment = comments_db[key][key_c]['comment']\n",
    "        if len(comment) == 0:\n",
    "            s = 0\n",
    "            word_count = 1\n",
    "        else:\n",
    "            s, word_count = get_comment_sentiment_simple(comment,stemmer,good_words,bad_words)\n",
    "        comments_db[key][key_c]['sentiment'] = s\n",
    "        comments_db[key][key_c]['word_count'] = word_count # number of stemmed tokens\n",
    "        \n",
    "        #except:\n",
    "        #    print 'Failed at key %s, comment %s' % (str(key), str(key_c))\n",
    "        #    break"
   ]
  },
  {
   "cell_type": "markdown",
   "metadata": {},
   "source": [
    "##Breakpoint"
   ]
  },
  {
   "cell_type": "code",
   "execution_count": 29,
   "metadata": {
    "collapsed": false
   },
   "outputs": [],
   "source": [
    "pickle.dump({'comments':comments_db,'good_words':good_words,'bad_words':bad_words, 'dataframe_with_sents':df}, open('2015-06-10-comments_db_with_simple_sentiments_2.p','wb'))"
   ]
  },
  {
   "cell_type": "code",
   "execution_count": 27,
   "metadata": {
    "collapsed": false
   },
   "outputs": [],
   "source": [
    "# format comment dates\n",
    "# convert to dataframe\n",
    "\n",
    "from dateutil import parser\n",
    "import pandas as pd\n",
    "\n",
    "# dataframe: cols = project_key, comment_number, date, comment_text, sentiment_rating\n",
    "keys = []\n",
    "idx = []\n",
    "dates = []\n",
    "text = []\n",
    "sents = []\n",
    "\n",
    "for key in comments_db:\n",
    "    proj = comments_db[key]\n",
    "    for ii, key_c in enumerate(proj):\n",
    "        if len(proj[key_c]) > 0:\n",
    "            \n",
    "            try:\n",
    "                dates.append(parser.parse(proj[key_c]['date']))\n",
    "            except ValueError:\n",
    "                # weird value in date; substitute with nearest neighbors\n",
    "                try:\n",
    "                    dates.append(parser.parse(proj[key_c-1]['date']))\n",
    "                except KeyError:\n",
    "                    try:\n",
    "                        dates.append(parser.parse(proj[key_c+1]['date']))\n",
    "                    except KeyError:\n",
    "                        # must be only one comment, in which case the date is not that important\n",
    "                        dates.append(parser.parse('January 1 1900')) # obvious outlier\n",
    "                        \n",
    "            keys.append(key) # project key\n",
    "            idx.append(ii) # comment number (ordered)\n",
    "            text.append(proj[key_c]['comment'])\n",
    "            sents.append(proj[key_c]['sentiment'])\n",
    "            #except:\n",
    "                # bad date\n",
    "               # print 'Found bad date: key %s, ii = %d, date = %s' % (str(key),ii,str(proj[key_c]['date']))\n",
    "                #continue\n",
    "               # break\n",
    "\n",
    "df = pd.DataFrame()\n",
    "df['keys'] = keys\n",
    "df['idx'] = idx\n",
    "df['dates'] = dates\n",
    "df['text'] = text\n",
    "df['sents'] = sents"
   ]
  },
  {
   "cell_type": "code",
   "execution_count": 49,
   "metadata": {
    "collapsed": false
   },
   "outputs": [
    {
     "data": {
      "text/plain": [
       "u'transgender-murder-violence-and-suicide-website'"
      ]
     },
     "execution_count": 49,
     "metadata": {},
     "output_type": "execute_result"
    }
   ],
   "source": [
    "tech_projects[tech_projects.keys()[0]]['slug']"
   ]
  },
  {
   "cell_type": "code",
   "execution_count": 28,
   "metadata": {
    "collapsed": false
   },
   "outputs": [
    {
     "data": {
      "text/plain": [
       "(491078, 5)"
      ]
     },
     "execution_count": 28,
     "metadata": {},
     "output_type": "execute_result"
    }
   ],
   "source": [
    "df.shape"
   ]
  },
  {
   "cell_type": "code",
   "execution_count": 59,
   "metadata": {
    "collapsed": false
   },
   "outputs": [
    {
     "data": {
      "text/html": [
       "<div style=\"max-height:1000px;max-width:1500px;overflow:auto;\">\n",
       "<table border=\"1\" class=\"dataframe\">\n",
       "  <thead>\n",
       "    <tr style=\"text-align: right;\">\n",
       "      <th></th>\n",
       "      <th>keys</th>\n",
       "      <th>idx</th>\n",
       "      <th>dates</th>\n",
       "      <th>text</th>\n",
       "      <th>sents</th>\n",
       "    </tr>\n",
       "  </thead>\n",
       "  <tbody>\n",
       "    <tr>\n",
       "      <th>0</th>\n",
       "      <td>1842798593</td>\n",
       "      <td>0</td>\n",
       "      <td>2013-11-15</td>\n",
       "      <td>What an awesome tool and you are just the pers...</td>\n",
       "      <td>1</td>\n",
       "    </tr>\n",
       "    <tr>\n",
       "      <th>1</th>\n",
       "      <td>1842798593</td>\n",
       "      <td>1</td>\n",
       "      <td>2013-11-07</td>\n",
       "      <td>Awesome to see your past your goal, good luck ...</td>\n",
       "      <td>0</td>\n",
       "    </tr>\n",
       "    <tr>\n",
       "      <th>2</th>\n",
       "      <td>1842798593</td>\n",
       "      <td>2</td>\n",
       "      <td>2013-11-07</td>\n",
       "      <td>Organizations like the Pacific Justice Institu...</td>\n",
       "      <td>0</td>\n",
       "    </tr>\n",
       "  </tbody>\n",
       "</table>\n",
       "</div>"
      ],
      "text/plain": [
       "         keys  idx      dates  \\\n",
       "0  1842798593    0 2013-11-15   \n",
       "1  1842798593    1 2013-11-07   \n",
       "2  1842798593    2 2013-11-07   \n",
       "\n",
       "                                                text  sents  \n",
       "0  What an awesome tool and you are just the pers...      1  \n",
       "1  Awesome to see your past your goal, good luck ...      0  \n",
       "2  Organizations like the Pacific Justice Institu...      0  "
      ]
     },
     "execution_count": 59,
     "metadata": {},
     "output_type": "execute_result"
    }
   ],
   "source": [
    "df.head(3)"
   ]
  },
  {
   "cell_type": "code",
   "execution_count": null,
   "metadata": {
    "collapsed": true
   },
   "outputs": [],
   "source": [
    "# save dataframe\n"
   ]
  },
  {
   "cell_type": "markdown",
   "metadata": {},
   "source": [
    "##Collect vital stats on sentiment"
   ]
  },
  {
   "cell_type": "code",
   "execution_count": 32,
   "metadata": {
    "collapsed": false
   },
   "outputs": [
    {
     "data": {
      "text/html": [
       "<div style=\"max-height:1000px;max-width:1500px;overflow:auto;\">\n",
       "<table border=\"1\" class=\"dataframe\">\n",
       "  <thead>\n",
       "    <tr style=\"text-align: right;\">\n",
       "      <th></th>\n",
       "      <th>keys</th>\n",
       "      <th>idx</th>\n",
       "      <th>dates</th>\n",
       "      <th>text</th>\n",
       "      <th>sents</th>\n",
       "    </tr>\n",
       "  </thead>\n",
       "  <tbody>\n",
       "    <tr>\n",
       "      <th>96177</th>\n",
       "      <td>1735427296</td>\n",
       "      <td>1695</td>\n",
       "      <td>2014-05-13</td>\n",
       "      <td>Refund refund refund Refund refund refund Refu...</td>\n",
       "      <td>-106</td>\n",
       "    </tr>\n",
       "    <tr>\n",
       "      <th>96185</th>\n",
       "      <td>1735427296</td>\n",
       "      <td>1703</td>\n",
       "      <td>2014-05-11</td>\n",
       "      <td>Refund Refund Refund Refund Refund Refund RRef...</td>\n",
       "      <td>-93</td>\n",
       "    </tr>\n",
       "    <tr>\n",
       "      <th>351340</th>\n",
       "      <td>648729703</td>\n",
       "      <td>669</td>\n",
       "      <td>2013-10-17</td>\n",
       "      <td>Waiting. Waiting. Waiting. Waiting. Waiting. W...</td>\n",
       "      <td>-22</td>\n",
       "    </tr>\n",
       "    <tr>\n",
       "      <th>371860</th>\n",
       "      <td>941348329</td>\n",
       "      <td>574</td>\n",
       "      <td>2014-04-19</td>\n",
       "      <td>Terry Gauchat Feb 7, 2014 Per Project Update #...</td>\n",
       "      <td>-21</td>\n",
       "    </tr>\n",
       "    <tr>\n",
       "      <th>375149</th>\n",
       "      <td>469832614</td>\n",
       "      <td>674</td>\n",
       "      <td>2015-03-03</td>\n",
       "      <td>Here is my view, probably expressed in too man...</td>\n",
       "      <td>-20</td>\n",
       "    </tr>\n",
       "  </tbody>\n",
       "</table>\n",
       "</div>"
      ],
      "text/plain": [
       "              keys   idx      dates  \\\n",
       "96177   1735427296  1695 2014-05-13   \n",
       "96185   1735427296  1703 2014-05-11   \n",
       "351340   648729703   669 2013-10-17   \n",
       "371860   941348329   574 2014-04-19   \n",
       "375149   469832614   674 2015-03-03   \n",
       "\n",
       "                                                     text  sents  \n",
       "96177   Refund refund refund Refund refund refund Refu...   -106  \n",
       "96185   Refund Refund Refund Refund Refund Refund RRef...    -93  \n",
       "351340  Waiting. Waiting. Waiting. Waiting. Waiting. W...    -22  \n",
       "371860  Terry Gauchat Feb 7, 2014 Per Project Update #...    -21  \n",
       "375149  Here is my view, probably expressed in too man...    -20  "
      ]
     },
     "execution_count": 32,
     "metadata": {},
     "output_type": "execute_result"
    }
   ],
   "source": [
    "df.sort(columns='sents',ascending=True).head()"
   ]
  },
  {
   "cell_type": "markdown",
   "metadata": {},
   "source": [
    "### Campaign duration"
   ]
  },
  {
   "cell_type": "code",
   "execution_count": 30,
   "metadata": {
    "collapsed": false
   },
   "outputs": [],
   "source": [
    "df_dates = df[['keys','dates']].copy(deep=True)\n",
    "df_dates_grouped = df_dates.groupby('keys')#.aggregate(np.min,np.max)\n",
    "df_dates_max_min = df_dates_grouped.agg([np.min, np.max])\n",
    "df_dates_max_min.columns = df_dates_max_min.columns.droplevel(0)\n",
    "df_dates_max_min['duration'] = df_dates_max_min['amax'] - df_dates_max_min['amin']\n",
    "df_dates_max_min = df_dates_max_min.reset_index(level=0)"
   ]
  },
  {
   "cell_type": "code",
   "execution_count": 17,
   "metadata": {
    "collapsed": false
   },
   "outputs": [
    {
     "data": {
      "text/html": [
       "<div style=\"max-height:1000px;max-width:1500px;overflow:auto;\">\n",
       "<table border=\"1\" class=\"dataframe\">\n",
       "  <thead>\n",
       "    <tr style=\"text-align: right;\">\n",
       "      <th></th>\n",
       "      <th>keys</th>\n",
       "      <th>amin</th>\n",
       "      <th>amax</th>\n",
       "      <th>duration</th>\n",
       "    </tr>\n",
       "  </thead>\n",
       "  <tbody>\n",
       "    <tr>\n",
       "      <th>0</th>\n",
       "      <td>182943</td>\n",
       "      <td>2014-09-18</td>\n",
       "      <td>2014-11-20</td>\n",
       "      <td>63 days</td>\n",
       "    </tr>\n",
       "    <tr>\n",
       "      <th>1</th>\n",
       "      <td>422207</td>\n",
       "      <td>2014-01-23</td>\n",
       "      <td>2014-05-13</td>\n",
       "      <td>110 days</td>\n",
       "    </tr>\n",
       "    <tr>\n",
       "      <th>2</th>\n",
       "      <td>600658</td>\n",
       "      <td>2014-08-05</td>\n",
       "      <td>2015-01-26</td>\n",
       "      <td>174 days</td>\n",
       "    </tr>\n",
       "    <tr>\n",
       "      <th>3</th>\n",
       "      <td>727286</td>\n",
       "      <td>2009-04-25</td>\n",
       "      <td>2010-05-13</td>\n",
       "      <td>383 days</td>\n",
       "    </tr>\n",
       "    <tr>\n",
       "      <th>4</th>\n",
       "      <td>1450156</td>\n",
       "      <td>2015-02-24</td>\n",
       "      <td>2015-04-27</td>\n",
       "      <td>62 days</td>\n",
       "    </tr>\n",
       "  </tbody>\n",
       "</table>\n",
       "</div>"
      ],
      "text/plain": [
       "      keys       amin       amax  duration\n",
       "0   182943 2014-09-18 2014-11-20   63 days\n",
       "1   422207 2014-01-23 2014-05-13  110 days\n",
       "2   600658 2014-08-05 2015-01-26  174 days\n",
       "3   727286 2009-04-25 2010-05-13  383 days\n",
       "4  1450156 2015-02-24 2015-04-27   62 days"
      ]
     },
     "execution_count": 17,
     "metadata": {},
     "output_type": "execute_result"
    }
   ],
   "source": [
    "df_dates_max_min.head()"
   ]
  },
  {
   "cell_type": "markdown",
   "metadata": {},
   "source": [
    "## Total project sentiment / comment"
   ]
  },
  {
   "cell_type": "code",
   "execution_count": 33,
   "metadata": {
    "collapsed": false,
    "scrolled": true
   },
   "outputs": [
    {
     "data": {
      "text/html": [
       "<div style=\"max-height:1000px;max-width:1500px;overflow:auto;\">\n",
       "<table border=\"1\" class=\"dataframe\">\n",
       "  <thead>\n",
       "    <tr style=\"text-align: right;\">\n",
       "      <th></th>\n",
       "      <th>keys</th>\n",
       "      <th>sents</th>\n",
       "      <th>sent_neg</th>\n",
       "      <th>sent_pos</th>\n",
       "      <th>sent_neutral</th>\n",
       "      <th>sent_average</th>\n",
       "      <th>fraction</th>\n",
       "    </tr>\n",
       "    <tr>\n",
       "      <th>keys</th>\n",
       "      <th></th>\n",
       "      <th></th>\n",
       "      <th></th>\n",
       "      <th></th>\n",
       "      <th></th>\n",
       "      <th></th>\n",
       "      <th></th>\n",
       "    </tr>\n",
       "  </thead>\n",
       "  <tbody>\n",
       "    <tr>\n",
       "      <th>331905521</th>\n",
       "      <td>331905521</td>\n",
       "      <td>-1</td>\n",
       "      <td>-1</td>\n",
       "      <td>0</td>\n",
       "      <td>0</td>\n",
       "      <td>-1</td>\n",
       "      <td>1</td>\n",
       "    </tr>\n",
       "    <tr>\n",
       "      <th>6872440</th>\n",
       "      <td>6872440</td>\n",
       "      <td>-1</td>\n",
       "      <td>-1</td>\n",
       "      <td>0</td>\n",
       "      <td>0</td>\n",
       "      <td>-1</td>\n",
       "      <td>1</td>\n",
       "    </tr>\n",
       "    <tr>\n",
       "      <th>161868950</th>\n",
       "      <td>161868950</td>\n",
       "      <td>-1</td>\n",
       "      <td>-1</td>\n",
       "      <td>0</td>\n",
       "      <td>0</td>\n",
       "      <td>-1</td>\n",
       "      <td>1</td>\n",
       "    </tr>\n",
       "    <tr>\n",
       "      <th>541253007</th>\n",
       "      <td>541253007</td>\n",
       "      <td>-1</td>\n",
       "      <td>-1</td>\n",
       "      <td>0</td>\n",
       "      <td>0</td>\n",
       "      <td>-1</td>\n",
       "      <td>1</td>\n",
       "    </tr>\n",
       "    <tr>\n",
       "      <th>681627866</th>\n",
       "      <td>681627866</td>\n",
       "      <td>-1</td>\n",
       "      <td>-1</td>\n",
       "      <td>0</td>\n",
       "      <td>0</td>\n",
       "      <td>-1</td>\n",
       "      <td>1</td>\n",
       "    </tr>\n",
       "  </tbody>\n",
       "</table>\n",
       "</div>"
      ],
      "text/plain": [
       "                keys  sents  sent_neg  sent_pos  sent_neutral  sent_average  \\\n",
       "keys                                                                          \n",
       "331905521  331905521     -1        -1         0             0            -1   \n",
       "6872440      6872440     -1        -1         0             0            -1   \n",
       "161868950  161868950     -1        -1         0             0            -1   \n",
       "541253007  541253007     -1        -1         0             0            -1   \n",
       "681627866  681627866     -1        -1         0             0            -1   \n",
       "\n",
       "           fraction  \n",
       "keys                 \n",
       "331905521         1  \n",
       "6872440           1  \n",
       "161868950         1  \n",
       "541253007         1  \n",
       "681627866         1  "
      ]
     },
     "execution_count": 33,
     "metadata": {},
     "output_type": "execute_result"
    }
   ],
   "source": [
    "#total_project_sentiment = df.groupby(keys) \n",
    "from __future__ import division\n",
    "import numpy as np\n",
    "\n",
    "get_neg = lambda x: float(x < 0)*-1\n",
    "get_pos = lambda x: float(x > 0)*1\n",
    "get_neutral = lambda x: float(x == 0)\n",
    "def get_sign(x):\n",
    "    if x == 0:\n",
    "        return x\n",
    "    else:\n",
    "        return x / np.abs(x)\n",
    "\n",
    "c = df[['keys','sents']].copy(deep=True)\n",
    "c['sent_neg'] = c['sents'].apply(get_neg)\n",
    "c['sent_pos'] = c['sents'].apply(get_pos)\n",
    "c['sent_neutral'] = c['sents'].apply(get_neutral)\n",
    "c['sent_average'] = c['sents'].apply(get_sign)\n",
    "\n",
    "total_sents = c.groupby('keys').apply(np.mean)\n",
    "total_sents = total_sents.sort('sent_neg')\n",
    "total_sents['fraction'] = -total_sents['sent_neg'] / (total_sents['sent_pos'] -total_sents['sent_neg'])\n",
    "total_sents.sort('sent_average',ascending=False)\n",
    "\n",
    "total_sents.head()"
   ]
  },
  {
   "cell_type": "code",
   "execution_count": 19,
   "metadata": {
    "collapsed": false
   },
   "outputs": [],
   "source": [
    "# convert total comments_db to a dataframe\n",
    "idx = []\n",
    "n_total = []\n",
    "for key in total_comments_db:\n",
    "    idx.append(key)\n",
    "    n_total.append(total_comments_db[key])\n",
    "df_total_comments = pd.DataFrame()\n",
    "df_total_comments['keys'] = idx\n",
    "df_total_comments['total_comments'] = n_total"
   ]
  },
  {
   "cell_type": "markdown",
   "metadata": {},
   "source": [
    "## Merge lots of data together"
   ]
  },
  {
   "cell_type": "code",
   "execution_count": 20,
   "metadata": {
    "collapsed": false
   },
   "outputs": [],
   "source": [
    "total_sents_comm = pd.merge(left=total_sents, right=df_total_comments, how='inner', on='keys')\n",
    "total_sents_c_d = pd.merge(left=total_sents_comm, right=df_dates_max_min[['keys', 'duration']], how='inner', on='keys')"
   ]
  },
  {
   "cell_type": "code",
   "execution_count": 18,
   "metadata": {
    "collapsed": false
   },
   "outputs": [
    {
     "data": {
      "text/html": [
       "<div style=\"max-height:1000px;max-width:1500px;overflow:auto;\">\n",
       "<table border=\"1\" class=\"dataframe\">\n",
       "  <thead>\n",
       "    <tr style=\"text-align: right;\">\n",
       "      <th></th>\n",
       "      <th>keys</th>\n",
       "      <th>sents</th>\n",
       "      <th>sent_neg</th>\n",
       "      <th>sent_pos</th>\n",
       "      <th>sent_neutral</th>\n",
       "      <th>sent_average</th>\n",
       "      <th>fraction</th>\n",
       "      <th>total_comments</th>\n",
       "      <th>duration</th>\n",
       "    </tr>\n",
       "  </thead>\n",
       "  <tbody>\n",
       "    <tr>\n",
       "      <th>0</th>\n",
       "      <td>1568338369</td>\n",
       "      <td>-0.84</td>\n",
       "      <td>-0.82</td>\n",
       "      <td>0.00</td>\n",
       "      <td>0.18</td>\n",
       "      <td>-0.82</td>\n",
       "      <td>1.000000</td>\n",
       "      <td>2160</td>\n",
       "      <td>38 days</td>\n",
       "    </tr>\n",
       "    <tr>\n",
       "      <th>1</th>\n",
       "      <td>909702674</td>\n",
       "      <td>-3.26</td>\n",
       "      <td>-0.80</td>\n",
       "      <td>0.04</td>\n",
       "      <td>0.16</td>\n",
       "      <td>-0.76</td>\n",
       "      <td>0.952381</td>\n",
       "      <td>858</td>\n",
       "      <td>73 days</td>\n",
       "    </tr>\n",
       "    <tr>\n",
       "      <th>2</th>\n",
       "      <td>1480401218</td>\n",
       "      <td>-0.50</td>\n",
       "      <td>-0.50</td>\n",
       "      <td>0.00</td>\n",
       "      <td>0.50</td>\n",
       "      <td>-0.50</td>\n",
       "      <td>1.000000</td>\n",
       "      <td>2</td>\n",
       "      <td>161 days</td>\n",
       "    </tr>\n",
       "    <tr>\n",
       "      <th>3</th>\n",
       "      <td>1730155176</td>\n",
       "      <td>-0.50</td>\n",
       "      <td>-0.50</td>\n",
       "      <td>0.00</td>\n",
       "      <td>0.50</td>\n",
       "      <td>-0.50</td>\n",
       "      <td>1.000000</td>\n",
       "      <td>2</td>\n",
       "      <td>36 days</td>\n",
       "    </tr>\n",
       "    <tr>\n",
       "      <th>4</th>\n",
       "      <td>1753626841</td>\n",
       "      <td>-0.50</td>\n",
       "      <td>-0.50</td>\n",
       "      <td>0.00</td>\n",
       "      <td>0.50</td>\n",
       "      <td>-0.50</td>\n",
       "      <td>1.000000</td>\n",
       "      <td>2</td>\n",
       "      <td>19 days</td>\n",
       "    </tr>\n",
       "  </tbody>\n",
       "</table>\n",
       "</div>"
      ],
      "text/plain": [
       "         keys  sents  sent_neg  sent_pos  sent_neutral  sent_average  \\\n",
       "0  1568338369  -0.84     -0.82      0.00          0.18         -0.82   \n",
       "1   909702674  -3.26     -0.80      0.04          0.16         -0.76   \n",
       "2  1480401218  -0.50     -0.50      0.00          0.50         -0.50   \n",
       "3  1730155176  -0.50     -0.50      0.00          0.50         -0.50   \n",
       "4  1753626841  -0.50     -0.50      0.00          0.50         -0.50   \n",
       "\n",
       "   fraction  total_comments  duration  \n",
       "0  1.000000            2160   38 days  \n",
       "1  0.952381             858   73 days  \n",
       "2  1.000000               2  161 days  \n",
       "3  1.000000               2   36 days  \n",
       "4  1.000000               2   19 days  "
      ]
     },
     "execution_count": 18,
     "metadata": {},
     "output_type": "execute_result"
    }
   ],
   "source": [
    "total_sents_c_d.head()"
   ]
  },
  {
   "cell_type": "code",
   "execution_count": 3,
   "metadata": {
    "collapsed": true
   },
   "outputs": [],
   "source": [
    "import pickle\n",
    "d=pickle.load(open('data/sentiment_data_06_08.p','rb'))"
   ]
  },
  {
   "cell_type": "code",
   "execution_count": 21,
   "metadata": {
    "collapsed": true
   },
   "outputs": [],
   "source": [
    "# save data\n",
    "pickle.dump({'data_aggregated':total_sents_c_d, 'data':df, 'data_dates':df_dates},open('data/sentiment_data_06_10.p','wb'))"
   ]
  },
  {
   "cell_type": "markdown",
   "metadata": {},
   "source": [
    "## Determine fraction of \"negative\"/\"neutral\"/\"positive\" projects"
   ]
  },
  {
   "cell_type": "code",
   "execution_count": 173,
   "metadata": {
    "collapsed": false
   },
   "outputs": [
    {
     "data": {
      "text/plain": [
       "True"
      ]
     },
     "execution_count": 173,
     "metadata": {},
     "output_type": "execute_result"
    }
   ],
   "source": [
    "total_sents_c_d.iloc[0]['duration'] > pd.tslib.Timedelta(value=72, unit='D')"
   ]
  },
  {
   "cell_type": "code",
   "execution_count": 176,
   "metadata": {
    "collapsed": false
   },
   "outputs": [
    {
     "data": {
      "text/plain": [
       "(76, 9)"
      ]
     },
     "execution_count": 176,
     "metadata": {},
     "output_type": "execute_result"
    }
   ],
   "source": [
    "# number of overall negative threads with > 10 comments and greater than 60 day duration\n",
    "min_duraction = pd.tslib.Timedelta(value=60, unit='D')\n",
    "total_sents_c_d[(total_sents_c_d['sent_average'] < 0) & (total_sents_c_d['total_comments']>10) & (total_sents_c_d['duration']>min_duraction)].shape"
   ]
  },
  {
   "cell_type": "code",
   "execution_count": 178,
   "metadata": {
    "collapsed": false
   },
   "outputs": [
    {
     "data": {
      "text/plain": [
       "(1675, 9)"
      ]
     },
     "execution_count": 178,
     "metadata": {},
     "output_type": "execute_result"
    }
   ],
   "source": [
    "total_sents_c_d[(total_sents_c_d['total_comments']>10) & (total_sents_c_d['duration'] > min_duraction)].shape"
   ]
  },
  {
   "cell_type": "code",
   "execution_count": 179,
   "metadata": {
    "collapsed": false
   },
   "outputs": [
    {
     "data": {
      "text/plain": [
       "0.04537313432835821"
      ]
     },
     "execution_count": 179,
     "metadata": {},
     "output_type": "execute_result"
    }
   ],
   "source": [
    "76/1675"
   ]
  },
  {
   "cell_type": "code",
   "execution_count": 265,
   "metadata": {
    "collapsed": false
   },
   "outputs": [],
   "source": [
    "total_sents_screened = total_sents_c_d[(total_sents_c_d['total_comments']>10) & (total_sents_c_d['duration']>min_duraction)]"
   ]
  },
  {
   "cell_type": "code",
   "execution_count": 273,
   "metadata": {
    "collapsed": false
   },
   "outputs": [
    {
     "data": {
      "text/plain": [
       "<matplotlib.text.Text at 0x117d9d8d0>"
      ]
     },
     "execution_count": 273,
     "metadata": {},
     "output_type": "execute_result"
    },
    {
     "data": {
      "image/png": "[encoded data removed]",
      "text/plain": [
       "<matplotlib.figure.Figure at 0x14c69ca50>"
      ]
     },
     "metadata": {},
     "output_type": "display_data"
    }
   ],
   "source": [
    "total_sents_screened['fraction'].hist(bins=20);\n",
    "plt.xlabel('Average (normalized) sentiment per comment per project');\n",
    "plt.title('Sentiment counts with projects > 10 comments, > 60 day duration')"
   ]
  },
  {
   "cell_type": "code",
   "execution_count": 267,
   "metadata": {
    "collapsed": false,
    "scrolled": true
   },
   "outputs": [
    {
     "data": {
      "text/plain": [
       "<matplotlib.collections.PathCollection at 0x1519a2f10>"
      ]
     },
     "execution_count": 267,
     "metadata": {},
     "output_type": "execute_result"
    },
    {
     "data": {
      "image/png": "[encoded data removed]",
      "text/plain": [
       "<matplotlib.figure.Figure at 0x14dcee050>"
      ]
     },
     "metadata": {},
     "output_type": "display_data"
    }
   ],
   "source": [
    "plt.scatter(total_sents_screened['duration'].apply(lambda x:x.astype(int)),total_sents_screened['fraction'],alpha=0.5)"
   ]
  },
  {
   "cell_type": "code",
   "execution_count": null,
   "metadata": {
    "collapsed": true
   },
   "outputs": [],
   "source": [
    "1+1"
   ]
  },
  {
   "cell_type": "code",
   "execution_count": 270,
   "metadata": {
    "collapsed": false
   },
   "outputs": [
    {
     "data": {
      "text/plain": [
       "<matplotlib.text.Text at 0x150866a50>"
      ]
     },
     "execution_count": 270,
     "metadata": {},
     "output_type": "execute_result"
    },
    {
     "data": {
      "image/png": "[encoded data removed]",
      "text/plain": [
       "<matplotlib.figure.Figure at 0x14f2e4750>"
      ]
     },
     "metadata": {},
     "output_type": "display_data"
    }
   ],
   "source": [
    "plt.scatter(total_sents_screened['sent_average'],total_sents_screened['fraction'],alpha=0.5);\n",
    "plt.xlabel('Average total sentiment');plt.ylabel('Enthusiasm neg: / (neg + pos)')"
   ]
  },
  {
   "cell_type": "code",
   "execution_count": 206,
   "metadata": {
    "collapsed": false
   },
   "outputs": [
    {
     "data": {
      "text/html": [
       "<div style=\"max-height:1000px;max-width:1500px;overflow:auto;\">\n",
       "<table border=\"1\" class=\"dataframe\">\n",
       "  <thead>\n",
       "    <tr style=\"text-align: right;\">\n",
       "      <th></th>\n",
       "      <th>keys</th>\n",
       "      <th>sents</th>\n",
       "      <th>sent_neg</th>\n",
       "      <th>sent_pos</th>\n",
       "      <th>sent_neutral</th>\n",
       "      <th>sent_average</th>\n",
       "      <th>fraction</th>\n",
       "      <th>total_comments</th>\n",
       "      <th>duration</th>\n",
       "    </tr>\n",
       "  </thead>\n",
       "  <tbody>\n",
       "    <tr>\n",
       "      <th>1624</th>\n",
       "      <td>1971628828</td>\n",
       "      <td>1.25</td>\n",
       "      <td>0.00</td>\n",
       "      <td>0.722222</td>\n",
       "      <td>0.277778</td>\n",
       "      <td>0.722222</td>\n",
       "      <td>-0.000000</td>\n",
       "      <td>36</td>\n",
       "      <td>283 days</td>\n",
       "    </tr>\n",
       "    <tr>\n",
       "      <th>2142</th>\n",
       "      <td>654352705</td>\n",
       "      <td>1.00</td>\n",
       "      <td>0.00</td>\n",
       "      <td>0.692308</td>\n",
       "      <td>0.307692</td>\n",
       "      <td>0.692308</td>\n",
       "      <td>-0.000000</td>\n",
       "      <td>13</td>\n",
       "      <td>207 days</td>\n",
       "    </tr>\n",
       "    <tr>\n",
       "      <th>1051</th>\n",
       "      <td>394474393</td>\n",
       "      <td>0.76</td>\n",
       "      <td>-0.02</td>\n",
       "      <td>0.640000</td>\n",
       "      <td>0.340000</td>\n",
       "      <td>0.620000</td>\n",
       "      <td>0.058824</td>\n",
       "      <td>669</td>\n",
       "      <td>62 days</td>\n",
       "    </tr>\n",
       "    <tr>\n",
       "      <th>2627</th>\n",
       "      <td>1189473009</td>\n",
       "      <td>0.88</td>\n",
       "      <td>0.00</td>\n",
       "      <td>0.600000</td>\n",
       "      <td>0.400000</td>\n",
       "      <td>0.600000</td>\n",
       "      <td>-0.000000</td>\n",
       "      <td>85</td>\n",
       "      <td>462 days</td>\n",
       "    </tr>\n",
       "  </tbody>\n",
       "</table>\n",
       "</div>"
      ],
      "text/plain": [
       "            keys  sents  sent_neg  sent_pos  sent_neutral  sent_average  \\\n",
       "1624  1971628828   1.25      0.00  0.722222      0.277778      0.722222   \n",
       "2142   654352705   1.00      0.00  0.692308      0.307692      0.692308   \n",
       "1051   394474393   0.76     -0.02  0.640000      0.340000      0.620000   \n",
       "2627  1189473009   0.88      0.00  0.600000      0.400000      0.600000   \n",
       "\n",
       "      fraction  total_comments  duration  \n",
       "1624 -0.000000              36  283 days  \n",
       "2142 -0.000000              13  207 days  \n",
       "1051  0.058824             669   62 days  \n",
       "2627 -0.000000              85  462 days  "
      ]
     },
     "execution_count": 206,
     "metadata": {},
     "output_type": "execute_result"
    }
   ],
   "source": [
    "total_sents_screened.sort(columns='sent_average',ascending=False).head(4)"
   ]
  },
  {
   "cell_type": "markdown",
   "metadata": {},
   "source": [
    "## Investigate time-dependence of negative sentiment"
   ]
  },
  {
   "cell_type": "code",
   "execution_count": 242,
   "metadata": {
    "collapsed": false
   },
   "outputs": [
    {
     "data": {
      "image/png": "[encoded data removed]",
      "text/plain": [
       "<matplotlib.figure.Figure at 0x149343850>"
      ]
     },
     "metadata": {},
     "output_type": "display_data"
    }
   ],
   "source": [
    "t = df[['keys','sents','dates']][df['keys']==1152735261]\n",
    "y = t['sents'].values; x = t['dates'].values;\n",
    "plt.scatter(x,y);"
   ]
  },
  {
   "cell_type": "code",
   "execution_count": 243,
   "metadata": {
    "collapsed": false
   },
   "outputs": [
    {
     "data": {
      "text/html": [
       "<div style=\"max-height:1000px;max-width:1500px;overflow:auto;\">\n",
       "<table border=\"1\" class=\"dataframe\">\n",
       "  <thead>\n",
       "    <tr style=\"text-align: right;\">\n",
       "      <th></th>\n",
       "      <th>keys</th>\n",
       "      <th>sents</th>\n",
       "      <th>sent_neg</th>\n",
       "      <th>sent_pos</th>\n",
       "      <th>sent_neutral</th>\n",
       "      <th>sent_average</th>\n",
       "      <th>fraction</th>\n",
       "      <th>total_comments</th>\n",
       "      <th>duration</th>\n",
       "    </tr>\n",
       "  </thead>\n",
       "  <tbody>\n",
       "    <tr>\n",
       "      <th>879</th>\n",
       "      <td>1152735261</td>\n",
       "      <td>0.12845</td>\n",
       "      <td>-0.023526</td>\n",
       "      <td>0.119514</td>\n",
       "      <td>0.85696</td>\n",
       "      <td>0.095988</td>\n",
       "      <td>0.027453</td>\n",
       "      <td>16639</td>\n",
       "      <td>654 days</td>\n",
       "    </tr>\n",
       "  </tbody>\n",
       "</table>\n",
       "</div>"
      ],
      "text/plain": [
       "           keys    sents  sent_neg  sent_pos  sent_neutral  sent_average  \\\n",
       "879  1152735261  0.12845 -0.023526  0.119514       0.85696      0.095988   \n",
       "\n",
       "     fraction  total_comments  duration  \n",
       "879  0.027453           16639  654 days  "
      ]
     },
     "execution_count": 243,
     "metadata": {},
     "output_type": "execute_result"
    }
   ],
   "source": [
    "total_sents_screened[total_sents_screened['keys']==1152735261]"
   ]
  },
  {
   "cell_type": "code",
   "execution_count": 225,
   "metadata": {
    "collapsed": false
   },
   "outputs": [],
   "source": [
    "inconsistent_keys = []\n",
    "key_lengths = []\n",
    "for key in comments_db:\n",
    "    if len(comments_db[key].keys()) < total_comments_db[key]:\n",
    "        inconsistent_keys.append(key)\n",
    "        key_lengths.append(len(comments_db[key].keys()))"
   ]
  },
  {
   "cell_type": "code",
   "execution_count": 230,
   "metadata": {
    "collapsed": false
   },
   "outputs": [],
   "source": [
    "a = np.array(key_lengths)"
   ]
  },
  {
   "cell_type": "code",
   "execution_count": 234,
   "metadata": {
    "collapsed": false
   },
   "outputs": [
    {
     "data": {
      "text/plain": [
       "16450"
      ]
     },
     "execution_count": 234,
     "metadata": {},
     "output_type": "execute_result"
    }
   ],
   "source": [
    "key_lengths[a.argmax()]"
   ]
  },
  {
   "cell_type": "code",
   "execution_count": 235,
   "metadata": {
    "collapsed": false
   },
   "outputs": [
    {
     "data": {
      "text/plain": [
       "1152735261"
      ]
     },
     "execution_count": 235,
     "metadata": {},
     "output_type": "execute_result"
    }
   ],
   "source": [
    "inconsistent_keys[a.argmax()]"
   ]
  },
  {
   "cell_type": "code",
   "execution_count": 62,
   "metadata": {
    "collapsed": false
   },
   "outputs": [
    {
     "data": {
      "text/plain": [
       "509500187"
      ]
     },
     "execution_count": 62,
     "metadata": {},
     "output_type": "execute_result"
    }
   ],
   "source": [
    "comments_db.keys()[1]"
   ]
  },
  {
   "cell_type": "code",
   "execution_count": 241,
   "metadata": {
    "collapsed": false
   },
   "outputs": [
    {
     "data": {
      "text/plain": [
       "u'https://www.kickstarter.com/projects/1003614822/ponomusic-where-your-soul-rediscovers-music?ref=discovery'"
      ]
     },
     "execution_count": 241,
     "metadata": {},
     "output_type": "execute_result"
    }
   ],
   "source": [
    "tech_projects[1152735261]['urls']['web']['project']"
   ]
  },
  {
   "cell_type": "code",
   "execution_count": 63,
   "metadata": {
    "collapsed": false
   },
   "outputs": [
    {
     "data": {
      "text/plain": [
       "4"
      ]
     },
     "execution_count": 63,
     "metadata": {},
     "output_type": "execute_result"
    }
   ],
   "source": [
    "len(comments_db[509500187])"
   ]
  },
  {
   "cell_type": "code",
   "execution_count": 52,
   "metadata": {
    "collapsed": true
   },
   "outputs": [],
   "source": [
    "comment_data = pickle.load(open('data/sentiment_data_06_08.p','rb'))"
   ]
  },
  {
   "cell_type": "code",
   "execution_count": 59,
   "metadata": {
    "collapsed": false
   },
   "outputs": [
    {
     "data": {
      "text/plain": [
       "0"
      ]
     },
     "execution_count": 59,
     "metadata": {},
     "output_type": "execute_result"
    }
   ],
   "source": [
    "comment_data['data'].iloc[0]['idx']"
   ]
  },
  {
   "cell_type": "code",
   "execution_count": null,
   "metadata": {
    "collapsed": true
   },
   "outputs": [],
   "source": []
  }
 ],
 "metadata": {
  "kernelspec": {
   "display_name": "Python 2",
   "language": "python",
   "name": "python2"
  },
  "language_info": {
   "codemirror_mode": {
    "name": "ipython",
    "version": 2
   },
   "file_extension": ".py",
   "mimetype": "text/x-python",
   "name": "python",
   "nbconvert_exporter": "python",
   "pygments_lexer": "ipython2",
   "version": "2.7.10"
  }
 },
 "nbformat": 4,
 "nbformat_minor": 0
}
