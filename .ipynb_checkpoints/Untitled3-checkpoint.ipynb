{
 "cells": [
  {
   "cell_type": "code",
   "execution_count": 5,
   "metadata": {
    "collapsed": false
   },
   "outputs": [
    {
     "name": "stdout",
     "output_type": "stream",
     "text": [
      "[(0, 0.17486521280638262), (1, 0.82513478719361733)] # [(0, 1), (1, 1), (2, 1)]\n",
      "[(0, 0.91610164919457016), (1, 0.083898350805429914)] # [(0, 1), (3, 1), (4, 1), (5, 1), (6, 1), (7, 1)]\n",
      "[(0, 0.35933251219808038), (1, 0.64066748780191962)] # [(2, 1), (5, 1), (7, 1), (8, 1)]\n",
      "[(0, 0.11636394734377906), (1, 0.88363605265622103)] # [(1, 1), (5, 2), (8, 1)]\n",
      "[(0, 0.87322787271646574), (1, 0.12677212728353435)] # [(3, 1), (6, 1), (7, 1)]\n",
      "[(0, 0.25542095919889779), (1, 0.74457904080110215)] # [(9, 1)]\n",
      "[(0, 0.17035517995837302), (1, 0.82964482004162698)] # [(9, 1), (10, 1)]\n",
      "[(0, 0.1282480439905137), (1, 0.8717519560094863)] # [(9, 1), (10, 1), (11, 1)]\n",
      "[(0, 0.16837561023012887), (1, 0.83162438976987119)] # [(4, 1), (10, 1), (11, 1)]\n",
      "\n"
     ]
    }
   ],
   "source": [
    "from gensim import corpora, models, similarities\n",
    "from gensim.models import hdpmodel, ldamodel\n",
    "from itertools import izip\n",
    "\n",
    "documents = [\"Human machine interface for lab abc computer applications\",\n",
    "              \"A survey of user opinion of computer system response time\",\n",
    "              \"The EPS user interface management system\",\n",
    "              \"System and human system engineering testing of EPS\",\n",
    "              \"Relation of user perceived response time to error measurement\",\n",
    "              \"The generation of random binary unordered trees\",\n",
    "              \"The intersection graph of paths in trees\",\n",
    "              \"Graph minors IV Widths of trees and well quasi ordering\",\n",
    "              \"Graph minors A survey\"]\n",
    "\n",
    "# remove common words and tokenize\n",
    "stoplist = set('for a of the and to in'.split())\n",
    "texts = [[word for word in document.lower().split() if word not in stoplist]\n",
    "         for document in documents]\n",
    "\n",
    "# remove words that appear only once\n",
    "all_tokens = sum(texts, [])\n",
    "tokens_once = set(word for word in set(all_tokens) if all_tokens.count(word) == 1)\n",
    "texts = [[word for word in text if word not in tokens_once]\n",
    "         for text in texts]\n",
    "\n",
    "dictionary = corpora.Dictionary(texts)\n",
    "corpus = [dictionary.doc2bow(text) for text in texts]\n",
    "\n",
    "# I can print out the documents and which is the most probable topics for each doc.\n",
    "lda = ldamodel.LdaModel(corpus, id2word=dictionary, num_topics=2,passes=10)\n",
    "corpus_lda = lda[corpus]\n",
    "\n",
    "for l,t in izip(corpus_lda,corpus):\n",
    "  print l,\"#\",t\n",
    "print"
   ]
  },
  {
   "cell_type": "code",
   "execution_count": 6,
   "metadata": {
    "collapsed": false
   },
   "outputs": [
    {
     "data": {
      "text/plain": [
       "u'0.204*user + 0.150*response + 0.150*time + 0.106*system + 0.099*computer + 0.098*survey + 0.035*interface + 0.034*eps + 0.031*trees + 0.031*human'"
      ]
     },
     "execution_count": 6,
     "metadata": {},
     "output_type": "execute_result"
    }
   ],
   "source": [
    "lda.print_topic(0)"
   ]
  },
  {
   "cell_type": "code",
   "execution_count": 7,
   "metadata": {
    "collapsed": false
   },
   "outputs": [
    {
     "data": {
      "text/plain": [
       "u'0.143*graph + 0.143*trees + 0.133*system + 0.102*minors + 0.102*human + 0.100*eps + 0.099*interface + 0.056*survey + 0.055*computer + 0.025*user'"
      ]
     },
     "execution_count": 7,
     "metadata": {},
     "output_type": "execute_result"
    }
   ],
   "source": [
    "lda.print_topic(1)"
   ]
  },
  {
   "cell_type": "code",
   "execution_count": 8,
   "metadata": {
    "collapsed": false
   },
   "outputs": [
    {
     "data": {
      "text/plain": [
       "[(0, 0.69688870095957378), (1, 0.30311129904042627)]"
      ]
     },
     "execution_count": 8,
     "metadata": {},
     "output_type": "execute_result"
    }
   ],
   "source": [
    "lda[dictionary.doc2bow(['computer'])]"
   ]
  },
  {
   "cell_type": "code",
   "execution_count": 11,
   "metadata": {
    "collapsed": false
   },
   "outputs": [
    {
     "data": {
      "text/plain": [
       "(array([[ 1.39372877,  0.60627123]]), None)"
      ]
     },
     "execution_count": 11,
     "metadata": {},
     "output_type": "execute_result"
    }
   ],
   "source": [
    "lda.inference([dictionary.doc2bow(['computer'])])"
   ]
  },
  {
   "cell_type": "code",
   "execution_count": null,
   "metadata": {
    "collapsed": true
   },
   "outputs": [],
   "source": []
  }
 ],
 "metadata": {
  "kernelspec": {
   "display_name": "Python 2",
   "language": "python",
   "name": "python2"
  },
  "language_info": {
   "codemirror_mode": {
    "name": "ipython",
    "version": 2
   },
   "file_extension": ".py",
   "mimetype": "text/x-python",
   "name": "python",
   "nbconvert_exporter": "python",
   "pygments_lexer": "ipython2",
   "version": "2.7.10"
  }
 },
 "nbformat": 4,
 "nbformat_minor": 0
}
